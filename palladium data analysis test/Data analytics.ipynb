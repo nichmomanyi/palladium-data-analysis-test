{
 "cells": [
  {
   "cell_type": "code",
   "execution_count": 176,
   "id": "1ec06091",
   "metadata": {},
   "outputs": [],
   "source": [
    "import numpy as np\n",
    "import pandas as pd\n",
    "import matplotlib.pyplot as plt\n",
    "import seaborn as sns\n",
    "import datetime as dt\n",
    "from datetime import datetime "
   ]
  },
  {
   "cell_type": "code",
   "execution_count": 177,
   "id": "05367eff",
   "metadata": {},
   "outputs": [
    {
     "data": {
      "text/html": [
       "<div>\n",
       "<style scoped>\n",
       "    .dataframe tbody tr th:only-of-type {\n",
       "        vertical-align: middle;\n",
       "    }\n",
       "\n",
       "    .dataframe tbody tr th {\n",
       "        vertical-align: top;\n",
       "    }\n",
       "\n",
       "    .dataframe thead th {\n",
       "        text-align: right;\n",
       "    }\n",
       "</style>\n",
       "<table border=\"1\" class=\"dataframe\">\n",
       "  <thead>\n",
       "    <tr style=\"text-align: right;\">\n",
       "      <th></th>\n",
       "      <th>Facility Location</th>\n",
       "      <th>PatientID</th>\n",
       "      <th>AgeLastVisit</th>\n",
       "      <th>AgeGroup</th>\n",
       "      <th>Gender</th>\n",
       "      <th>Registration Date</th>\n",
       "      <th>ART Status</th>\n",
       "      <th>LastRegimen</th>\n",
       "      <th>LastRegimenLine</th>\n",
       "      <th>LastCD4</th>\n",
       "      <th>LastWHO</th>\n",
       "      <th>LastVisit</th>\n",
       "      <th>LastStatus</th>\n",
       "    </tr>\n",
       "  </thead>\n",
       "  <tbody>\n",
       "    <tr>\n",
       "      <th>0</th>\n",
       "      <td>Kampala</td>\n",
       "      <td>1</td>\n",
       "      <td>61.7</td>\n",
       "      <td>Adult</td>\n",
       "      <td>Female</td>\n",
       "      <td>2006-12-29</td>\n",
       "      <td>ART</td>\n",
       "      <td>3TC+EFV+TDF</td>\n",
       "      <td>NaN</td>\n",
       "      <td>882.0</td>\n",
       "      <td>1.0</td>\n",
       "      <td>2017-02-17</td>\n",
       "      <td>Active</td>\n",
       "    </tr>\n",
       "    <tr>\n",
       "      <th>1</th>\n",
       "      <td>Nairobi</td>\n",
       "      <td>2</td>\n",
       "      <td>52.8</td>\n",
       "      <td>Adult</td>\n",
       "      <td>Male</td>\n",
       "      <td>2006-01-04</td>\n",
       "      <td>ART</td>\n",
       "      <td>3TC+AZT+NVP</td>\n",
       "      <td>First line</td>\n",
       "      <td>409.0</td>\n",
       "      <td>1.0</td>\n",
       "      <td>2017-03-28</td>\n",
       "      <td>Active</td>\n",
       "    </tr>\n",
       "    <tr>\n",
       "      <th>2</th>\n",
       "      <td>Kisumu</td>\n",
       "      <td>3</td>\n",
       "      <td>44.7</td>\n",
       "      <td>Adult</td>\n",
       "      <td>Female</td>\n",
       "      <td>2006-01-18</td>\n",
       "      <td>ART</td>\n",
       "      <td>3TC+AZT+NVP</td>\n",
       "      <td>NaN</td>\n",
       "      <td>NaN</td>\n",
       "      <td>1.0</td>\n",
       "      <td>2017-03-13</td>\n",
       "      <td>Active</td>\n",
       "    </tr>\n",
       "    <tr>\n",
       "      <th>3</th>\n",
       "      <td>Nairobi</td>\n",
       "      <td>4</td>\n",
       "      <td>54.7</td>\n",
       "      <td>Adult</td>\n",
       "      <td>Male</td>\n",
       "      <td>2006-01-20</td>\n",
       "      <td>ART</td>\n",
       "      <td>3TC+NVP+TDF</td>\n",
       "      <td>NaN</td>\n",
       "      <td>511.0</td>\n",
       "      <td>1.0</td>\n",
       "      <td>2017-03-03</td>\n",
       "      <td>Active</td>\n",
       "    </tr>\n",
       "    <tr>\n",
       "      <th>4</th>\n",
       "      <td>Mombasa</td>\n",
       "      <td>5</td>\n",
       "      <td>52.1</td>\n",
       "      <td>Adult</td>\n",
       "      <td>Female</td>\n",
       "      <td>2006-02-15</td>\n",
       "      <td>ART</td>\n",
       "      <td>3TC+NVP+TDF</td>\n",
       "      <td>NaN</td>\n",
       "      <td>134.0</td>\n",
       "      <td>1.0</td>\n",
       "      <td>2017-03-31</td>\n",
       "      <td>Active</td>\n",
       "    </tr>\n",
       "  </tbody>\n",
       "</table>\n",
       "</div>"
      ],
      "text/plain": [
       "  Facility Location  PatientID  AgeLastVisit AgeGroup  Gender  \\\n",
       "0           Kampala          1          61.7    Adult  Female   \n",
       "1           Nairobi          2          52.8    Adult    Male   \n",
       "2            Kisumu          3          44.7    Adult  Female   \n",
       "3           Nairobi          4          54.7    Adult    Male   \n",
       "4           Mombasa          5          52.1    Adult  Female   \n",
       "\n",
       "  Registration Date ART Status  LastRegimen LastRegimenLine  LastCD4  LastWHO  \\\n",
       "0        2006-12-29        ART  3TC+EFV+TDF             NaN    882.0      1.0   \n",
       "1        2006-01-04        ART  3TC+AZT+NVP      First line    409.0      1.0   \n",
       "2        2006-01-18        ART  3TC+AZT+NVP             NaN      NaN      1.0   \n",
       "3        2006-01-20        ART  3TC+NVP+TDF             NaN    511.0      1.0   \n",
       "4        2006-02-15        ART  3TC+NVP+TDF             NaN    134.0      1.0   \n",
       "\n",
       "    LastVisit LastStatus  \n",
       "0  2017-02-17     Active  \n",
       "1  2017-03-28     Active  \n",
       "2  2017-03-13     Active  \n",
       "3  2017-03-03     Active  \n",
       "4  2017-03-31     Active  "
      ]
     },
     "execution_count": 177,
     "metadata": {},
     "output_type": "execute_result"
    }
   ],
   "source": [
    "data=pd.read_excel('Data Analysis Test Data Set_2023.xlsx', sheet_name='Patient Data')\n",
    "data.head()"
   ]
  },
  {
   "cell_type": "markdown",
   "id": "f6f2ae3c",
   "metadata": {},
   "source": [
    "### Summary statistics of the data"
   ]
  },
  {
   "cell_type": "code",
   "execution_count": 178,
   "id": "c8e96f10",
   "metadata": {},
   "outputs": [
    {
     "data": {
      "text/plain": [
       "(42317, 13)"
      ]
     },
     "execution_count": 178,
     "metadata": {},
     "output_type": "execute_result"
    }
   ],
   "source": [
    "data.shape"
   ]
  },
  {
   "cell_type": "code",
   "execution_count": 179,
   "id": "c7bf3c1b",
   "metadata": {},
   "outputs": [
    {
     "name": "stdout",
     "output_type": "stream",
     "text": [
      "<class 'pandas.core.frame.DataFrame'>\n",
      "RangeIndex: 42317 entries, 0 to 42316\n",
      "Data columns (total 13 columns):\n",
      " #   Column             Non-Null Count  Dtype  \n",
      "---  ------             --------------  -----  \n",
      " 0   Facility Location  42317 non-null  object \n",
      " 1   PatientID          42317 non-null  int64  \n",
      " 2   AgeLastVisit       42317 non-null  float64\n",
      " 3   AgeGroup           42317 non-null  object \n",
      " 4   Gender             42317 non-null  object \n",
      " 5   Registration Date  42317 non-null  object \n",
      " 6   ART Status         42317 non-null  object \n",
      " 7   LastRegimen        42117 non-null  object \n",
      " 8   LastRegimenLine    40198 non-null  object \n",
      " 9   LastCD4            37912 non-null  float64\n",
      " 10  LastWHO            42238 non-null  float64\n",
      " 11  LastVisit          42317 non-null  object \n",
      " 12  LastStatus         42317 non-null  object \n",
      "dtypes: float64(3), int64(1), object(9)\n",
      "memory usage: 4.2+ MB\n"
     ]
    }
   ],
   "source": [
    "data.info()"
   ]
  },
  {
   "cell_type": "markdown",
   "id": "07b48c69",
   "metadata": {},
   "source": [
    "###### Facility location distribution"
   ]
  },
  {
   "cell_type": "code",
   "execution_count": 180,
   "id": "cf5b5e38",
   "metadata": {
    "scrolled": true
   },
   "outputs": [
    {
     "data": {
      "text/html": [
       "<div>\n",
       "<style scoped>\n",
       "    .dataframe tbody tr th:only-of-type {\n",
       "        vertical-align: middle;\n",
       "    }\n",
       "\n",
       "    .dataframe tbody tr th {\n",
       "        vertical-align: top;\n",
       "    }\n",
       "\n",
       "    .dataframe thead th {\n",
       "        text-align: right;\n",
       "    }\n",
       "</style>\n",
       "<table border=\"1\" class=\"dataframe\">\n",
       "  <thead>\n",
       "    <tr style=\"text-align: right;\">\n",
       "      <th></th>\n",
       "      <th>index</th>\n",
       "      <th>Facility Location</th>\n",
       "    </tr>\n",
       "  </thead>\n",
       "  <tbody>\n",
       "    <tr>\n",
       "      <th>0</th>\n",
       "      <td>Nairobi</td>\n",
       "      <td>14106</td>\n",
       "    </tr>\n",
       "    <tr>\n",
       "      <th>1</th>\n",
       "      <td>Mombasa</td>\n",
       "      <td>9404</td>\n",
       "    </tr>\n",
       "    <tr>\n",
       "      <th>2</th>\n",
       "      <td>Kampala</td>\n",
       "      <td>4702</td>\n",
       "    </tr>\n",
       "    <tr>\n",
       "      <th>3</th>\n",
       "      <td>Kisumu</td>\n",
       "      <td>4702</td>\n",
       "    </tr>\n",
       "    <tr>\n",
       "      <th>4</th>\n",
       "      <td>Kigali</td>\n",
       "      <td>4702</td>\n",
       "    </tr>\n",
       "    <tr>\n",
       "      <th>5</th>\n",
       "      <td>Dar es Salaam</td>\n",
       "      <td>4701</td>\n",
       "    </tr>\n",
       "  </tbody>\n",
       "</table>\n",
       "</div>"
      ],
      "text/plain": [
       "           index  Facility Location\n",
       "0        Nairobi              14106\n",
       "1        Mombasa               9404\n",
       "2        Kampala               4702\n",
       "3         Kisumu               4702\n",
       "4         Kigali               4702\n",
       "5  Dar es Salaam               4701"
      ]
     },
     "execution_count": 180,
     "metadata": {},
     "output_type": "execute_result"
    }
   ],
   "source": [
    "facility_per_location=data['Facility Location'].value_counts().reset_index()\n",
    "facility_per_location"
   ]
  },
  {
   "cell_type": "code",
   "execution_count": 181,
   "id": "a0fb28f5",
   "metadata": {},
   "outputs": [
    {
     "data": {
      "image/png": "[encoded data removed]",
      "text/plain": [
       "<Figure size 720x504 with 1 Axes>"
      ]
     },
     "metadata": {},
     "output_type": "display_data"
    }
   ],
   "source": [
    "plt.figure(figsize=(10,7))\n",
    "sns.set_style('whitegrid')\n",
    "sns.set_palette(['#1DA7DF', '#7AC9E9', '#99DFDE', '#9FB5BE', '#64B3D0', '#C7C9CB'])\n",
    "sns.countplot(data=data, x='Facility Location')\n",
    "plt.xlabel(\"Facility Location\", size=14)\n",
    "plt.ylabel(\"Number of facilities\", size=14)\n",
    "plt.title(\"Number of facilities per location\", size=14)\n",
    "plt.savefig('location facilities')\n",
    "plt.show()"
   ]
  },
  {
   "cell_type": "markdown",
   "id": "de6373b8",
   "metadata": {},
   "source": [
    "###### AgeGroup distribution"
   ]
  },
  {
   "cell_type": "code",
   "execution_count": 182,
   "id": "aee0c8ca",
   "metadata": {},
   "outputs": [
    {
     "data": {
      "text/html": [
       "<div>\n",
       "<style scoped>\n",
       "    .dataframe tbody tr th:only-of-type {\n",
       "        vertical-align: middle;\n",
       "    }\n",
       "\n",
       "    .dataframe tbody tr th {\n",
       "        vertical-align: top;\n",
       "    }\n",
       "\n",
       "    .dataframe thead th {\n",
       "        text-align: right;\n",
       "    }\n",
       "</style>\n",
       "<table border=\"1\" class=\"dataframe\">\n",
       "  <thead>\n",
       "    <tr style=\"text-align: right;\">\n",
       "      <th></th>\n",
       "      <th>Facility Location</th>\n",
       "      <th>PatientID</th>\n",
       "      <th>AgeLastVisit</th>\n",
       "      <th>AgeGroup</th>\n",
       "      <th>Gender</th>\n",
       "      <th>Registration Date</th>\n",
       "      <th>ART Status</th>\n",
       "      <th>LastRegimen</th>\n",
       "      <th>LastRegimenLine</th>\n",
       "      <th>LastCD4</th>\n",
       "      <th>LastWHO</th>\n",
       "      <th>LastVisit</th>\n",
       "      <th>LastStatus</th>\n",
       "      <th>Age group distribution</th>\n",
       "    </tr>\n",
       "  </thead>\n",
       "  <tbody>\n",
       "    <tr>\n",
       "      <th>0</th>\n",
       "      <td>Kampala</td>\n",
       "      <td>1</td>\n",
       "      <td>61.7</td>\n",
       "      <td>Adult</td>\n",
       "      <td>Female</td>\n",
       "      <td>2006-12-29</td>\n",
       "      <td>ART</td>\n",
       "      <td>3TC+EFV+TDF</td>\n",
       "      <td>NaN</td>\n",
       "      <td>882.0</td>\n",
       "      <td>1.0</td>\n",
       "      <td>2017-02-17</td>\n",
       "      <td>Active</td>\n",
       "      <td>61+</td>\n",
       "    </tr>\n",
       "    <tr>\n",
       "      <th>1</th>\n",
       "      <td>Nairobi</td>\n",
       "      <td>2</td>\n",
       "      <td>52.8</td>\n",
       "      <td>Adult</td>\n",
       "      <td>Male</td>\n",
       "      <td>2006-01-04</td>\n",
       "      <td>ART</td>\n",
       "      <td>3TC+AZT+NVP</td>\n",
       "      <td>First line</td>\n",
       "      <td>409.0</td>\n",
       "      <td>1.0</td>\n",
       "      <td>2017-03-28</td>\n",
       "      <td>Active</td>\n",
       "      <td>51-60</td>\n",
       "    </tr>\n",
       "    <tr>\n",
       "      <th>2</th>\n",
       "      <td>Kisumu</td>\n",
       "      <td>3</td>\n",
       "      <td>44.7</td>\n",
       "      <td>Adult</td>\n",
       "      <td>Female</td>\n",
       "      <td>2006-01-18</td>\n",
       "      <td>ART</td>\n",
       "      <td>3TC+AZT+NVP</td>\n",
       "      <td>NaN</td>\n",
       "      <td>NaN</td>\n",
       "      <td>1.0</td>\n",
       "      <td>2017-03-13</td>\n",
       "      <td>Active</td>\n",
       "      <td>41-50</td>\n",
       "    </tr>\n",
       "  </tbody>\n",
       "</table>\n",
       "</div>"
      ],
      "text/plain": [
       "  Facility Location  PatientID  AgeLastVisit AgeGroup  Gender  \\\n",
       "0           Kampala          1          61.7    Adult  Female   \n",
       "1           Nairobi          2          52.8    Adult    Male   \n",
       "2            Kisumu          3          44.7    Adult  Female   \n",
       "\n",
       "  Registration Date ART Status  LastRegimen LastRegimenLine  LastCD4  LastWHO  \\\n",
       "0        2006-12-29        ART  3TC+EFV+TDF             NaN    882.0      1.0   \n",
       "1        2006-01-04        ART  3TC+AZT+NVP      First line    409.0      1.0   \n",
       "2        2006-01-18        ART  3TC+AZT+NVP             NaN      NaN      1.0   \n",
       "\n",
       "    LastVisit LastStatus Age group distribution  \n",
       "0  2017-02-17     Active                    61+  \n",
       "1  2017-03-28     Active                  51-60  \n",
       "2  2017-03-13     Active                  41-50  "
      ]
     },
     "execution_count": 182,
     "metadata": {},
     "output_type": "execute_result"
    }
   ],
   "source": [
    "# defining age groups and their corresponding labels\n",
    "age_bins = [0, 10, 20, 30, 40, 50, 60, float('inf')]\n",
    "age_labels = ['0-10', '11-20', '21-30', '31-40','41-50','51-60','61+']\n",
    "\n",
    "# use pd.cut to create a new column with the age groups\n",
    "data['Age group distribution'] = pd.cut(data['AgeLastVisit'], bins=age_bins, labels=age_labels)\n",
    "data.head(3)"
   ]
  },
  {
   "cell_type": "code",
   "execution_count": 183,
   "id": "6ad0540b",
   "metadata": {},
   "outputs": [
    {
     "data": {
      "text/html": [
       "<div>\n",
       "<style scoped>\n",
       "    .dataframe tbody tr th:only-of-type {\n",
       "        vertical-align: middle;\n",
       "    }\n",
       "\n",
       "    .dataframe tbody tr th {\n",
       "        vertical-align: top;\n",
       "    }\n",
       "\n",
       "    .dataframe thead th {\n",
       "        text-align: right;\n",
       "    }\n",
       "</style>\n",
       "<table border=\"1\" class=\"dataframe\">\n",
       "  <thead>\n",
       "    <tr style=\"text-align: right;\">\n",
       "      <th></th>\n",
       "      <th>index</th>\n",
       "      <th>Age group distribution</th>\n",
       "      <th>Percentage distribution</th>\n",
       "    </tr>\n",
       "  </thead>\n",
       "  <tbody>\n",
       "    <tr>\n",
       "      <th>6</th>\n",
       "      <td>0-10</td>\n",
       "      <td>1277</td>\n",
       "      <td>3.02</td>\n",
       "    </tr>\n",
       "    <tr>\n",
       "      <th>3</th>\n",
       "      <td>11-20</td>\n",
       "      <td>3270</td>\n",
       "      <td>7.73</td>\n",
       "    </tr>\n",
       "    <tr>\n",
       "      <th>4</th>\n",
       "      <td>21-30</td>\n",
       "      <td>3261</td>\n",
       "      <td>7.71</td>\n",
       "    </tr>\n",
       "    <tr>\n",
       "      <th>1</th>\n",
       "      <td>31-40</td>\n",
       "      <td>10858</td>\n",
       "      <td>25.66</td>\n",
       "    </tr>\n",
       "    <tr>\n",
       "      <th>0</th>\n",
       "      <td>41-50</td>\n",
       "      <td>14090</td>\n",
       "      <td>33.30</td>\n",
       "    </tr>\n",
       "    <tr>\n",
       "      <th>2</th>\n",
       "      <td>51-60</td>\n",
       "      <td>7194</td>\n",
       "      <td>17.00</td>\n",
       "    </tr>\n",
       "    <tr>\n",
       "      <th>5</th>\n",
       "      <td>61+</td>\n",
       "      <td>2366</td>\n",
       "      <td>5.59</td>\n",
       "    </tr>\n",
       "  </tbody>\n",
       "</table>\n",
       "</div>"
      ],
      "text/plain": [
       "   index  Age group distribution  Percentage distribution\n",
       "6   0-10                    1277                     3.02\n",
       "3  11-20                    3270                     7.73\n",
       "4  21-30                    3261                     7.71\n",
       "1  31-40                   10858                    25.66\n",
       "0  41-50                   14090                    33.30\n",
       "2  51-60                    7194                    17.00\n",
       "5    61+                    2366                     5.59"
      ]
     },
     "execution_count": 183,
     "metadata": {},
     "output_type": "execute_result"
    }
   ],
   "source": [
    "AgeGroup_distribution=data['Age group distribution'].value_counts().reset_index()\n",
    "#percentage coulmn\n",
    "TotalDistribution=AgeGroup_distribution['Age group distribution'].sum()\n",
    "AgeGroup_distribution['Percentage distribution']=(AgeGroup_distribution['Age group distribution']/TotalDistribution*100).round(2)\n",
    "AgeGroup_distribution.sort_values(by='index', ascending=True)"
   ]
  },
  {
   "cell_type": "code",
   "execution_count": 184,
   "id": "0c718399",
   "metadata": {
    "scrolled": false
   },
   "outputs": [
    {
     "data": {
      "image/png": "[encoded data removed]",
      "text/plain": [
       "<Figure size 432x432 with 1 Axes>"
      ]
     },
     "metadata": {},
     "output_type": "display_data"
    }
   ],
   "source": [
    "# Create the pie chart\n",
    "fig, ax = plt.subplots(figsize=(6,6))\n",
    "#Pallette color\n",
    "pallette=['#1DA7DF','#7AC9E9','#99DFDE','#9FB5BE','#64B3D0','#5D8BE2','#C7C9CB']\n",
    "AgeGroup_distribution.plot.pie(y='Age group distribution', labels=AgeGroup_distribution['index'], autopct='%1.1f%%', startangle=90, ax=ax, colors=pallette)\n",
    "ax.set_title('Patient status Distribution')\n",
    "# moving the legend to the bottom and adjust the padding\n",
    "ax.legend(loc='lower center', bbox_to_anchor=(0.5, -0.2), ncol=2)\n",
    "\n",
    "plt.savefig('agedistribution')\n",
    "plt.show()"
   ]
  },
  {
   "cell_type": "code",
   "execution_count": 185,
   "id": "87fabc7e",
   "metadata": {},
   "outputs": [
    {
     "data": {
      "text/html": [
       "<div>\n",
       "<style scoped>\n",
       "    .dataframe tbody tr th:only-of-type {\n",
       "        vertical-align: middle;\n",
       "    }\n",
       "\n",
       "    .dataframe tbody tr th {\n",
       "        vertical-align: top;\n",
       "    }\n",
       "\n",
       "    .dataframe thead th {\n",
       "        text-align: right;\n",
       "    }\n",
       "</style>\n",
       "<table border=\"1\" class=\"dataframe\">\n",
       "  <thead>\n",
       "    <tr style=\"text-align: right;\">\n",
       "      <th></th>\n",
       "      <th>index</th>\n",
       "      <th>AgeGroup</th>\n",
       "    </tr>\n",
       "  </thead>\n",
       "  <tbody>\n",
       "    <tr>\n",
       "      <th>0</th>\n",
       "      <td>Adult</td>\n",
       "      <td>39342</td>\n",
       "    </tr>\n",
       "    <tr>\n",
       "      <th>1</th>\n",
       "      <td>Paed</td>\n",
       "      <td>2975</td>\n",
       "    </tr>\n",
       "  </tbody>\n",
       "</table>\n",
       "</div>"
      ],
      "text/plain": [
       "   index  AgeGroup\n",
       "0  Adult     39342\n",
       "1   Paed      2975"
      ]
     },
     "execution_count": 185,
     "metadata": {},
     "output_type": "execute_result"
    }
   ],
   "source": [
    "AgeGroup_dist=data['AgeGroup'].value_counts().reset_index()\n",
    "AgeGroup_dist"
   ]
  },
  {
   "cell_type": "markdown",
   "id": "8b946c01",
   "metadata": {},
   "source": [
    "###### Mean age"
   ]
  },
  {
   "cell_type": "code",
   "execution_count": 186,
   "id": "ad366fbe",
   "metadata": {},
   "outputs": [
    {
     "data": {
      "text/plain": [
       "40.33905995226421"
      ]
     },
     "execution_count": 186,
     "metadata": {},
     "output_type": "execute_result"
    }
   ],
   "source": [
    "mean_age=np.mean(data['AgeLastVisit'])\n",
    "mean_age"
   ]
  },
  {
   "cell_type": "markdown",
   "id": "c4bb422e",
   "metadata": {},
   "source": [
    "##### Patient Status"
   ]
  },
  {
   "cell_type": "code",
   "execution_count": 187,
   "id": "c706ebe2",
   "metadata": {
    "scrolled": true
   },
   "outputs": [
    {
     "data": {
      "text/html": [
       "<div>\n",
       "<style scoped>\n",
       "    .dataframe tbody tr th:only-of-type {\n",
       "        vertical-align: middle;\n",
       "    }\n",
       "\n",
       "    .dataframe tbody tr th {\n",
       "        vertical-align: top;\n",
       "    }\n",
       "\n",
       "    .dataframe thead th {\n",
       "        text-align: right;\n",
       "    }\n",
       "</style>\n",
       "<table border=\"1\" class=\"dataframe\">\n",
       "  <thead>\n",
       "    <tr style=\"text-align: right;\">\n",
       "      <th></th>\n",
       "      <th>index</th>\n",
       "      <th>LastStatus</th>\n",
       "      <th>LastStatusPercentage</th>\n",
       "    </tr>\n",
       "  </thead>\n",
       "  <tbody>\n",
       "    <tr>\n",
       "      <th>0</th>\n",
       "      <td>Active</td>\n",
       "      <td>40524</td>\n",
       "      <td>95.76</td>\n",
       "    </tr>\n",
       "    <tr>\n",
       "      <th>1</th>\n",
       "      <td>Defaulter</td>\n",
       "      <td>1711</td>\n",
       "      <td>4.04</td>\n",
       "    </tr>\n",
       "    <tr>\n",
       "      <th>2</th>\n",
       "      <td>Lost ND</td>\n",
       "      <td>74</td>\n",
       "      <td>0.17</td>\n",
       "    </tr>\n",
       "    <tr>\n",
       "      <th>3</th>\n",
       "      <td>Transfer</td>\n",
       "      <td>5</td>\n",
       "      <td>0.01</td>\n",
       "    </tr>\n",
       "    <tr>\n",
       "      <th>4</th>\n",
       "      <td>Lost</td>\n",
       "      <td>2</td>\n",
       "      <td>0.00</td>\n",
       "    </tr>\n",
       "    <tr>\n",
       "      <th>5</th>\n",
       "      <td>Death</td>\n",
       "      <td>1</td>\n",
       "      <td>0.00</td>\n",
       "    </tr>\n",
       "  </tbody>\n",
       "</table>\n",
       "</div>"
      ],
      "text/plain": [
       "       index  LastStatus  LastStatusPercentage\n",
       "0     Active       40524                 95.76\n",
       "1  Defaulter        1711                  4.04\n",
       "2    Lost ND          74                  0.17\n",
       "3   Transfer           5                  0.01\n",
       "4       Lost           2                  0.00\n",
       "5      Death           1                  0.00"
      ]
     },
     "execution_count": 187,
     "metadata": {},
     "output_type": "execute_result"
    }
   ],
   "source": [
    "patient_status=data['LastStatus'].value_counts().reset_index()\n",
    "#Percentage for LAstStatus\n",
    "Total_LastStatus=patient_status['LastStatus'].sum()\n",
    "patient_status['LastStatusPercentage']=(patient_status['LastStatus']/Total_LastStatus*100).round(2)\n",
    "patient_status"
   ]
  },
  {
   "cell_type": "code",
   "execution_count": 188,
   "id": "5a9b4fc9",
   "metadata": {},
   "outputs": [],
   "source": [
    "# # Create the pie chart\n",
    "# fig, ax = plt.subplots()\n",
    "# patient_status.plot.pie(y='LastStatusPercentage', labels=patient_status['index'], autopct='%1.1f%%', startangle=90)\n",
    "# # Add a title\n",
    "# ax.set_title('Patient status Distribution')\n",
    "# plt.show()"
   ]
  },
  {
   "cell_type": "markdown",
   "id": "e9927cf3",
   "metadata": {},
   "source": [
    "##### LastWHO Status"
   ]
  },
  {
   "cell_type": "code",
   "execution_count": 204,
   "id": "61e480ee",
   "metadata": {
    "scrolled": false
   },
   "outputs": [
    {
     "data": {
      "text/html": [
       "<div>\n",
       "<style scoped>\n",
       "    .dataframe tbody tr th:only-of-type {\n",
       "        vertical-align: middle;\n",
       "    }\n",
       "\n",
       "    .dataframe tbody tr th {\n",
       "        vertical-align: top;\n",
       "    }\n",
       "\n",
       "    .dataframe thead th {\n",
       "        text-align: right;\n",
       "    }\n",
       "</style>\n",
       "<table border=\"1\" class=\"dataframe\">\n",
       "  <thead>\n",
       "    <tr style=\"text-align: right;\">\n",
       "      <th></th>\n",
       "      <th>index</th>\n",
       "      <th>LastWHO</th>\n",
       "    </tr>\n",
       "  </thead>\n",
       "  <tbody>\n",
       "    <tr>\n",
       "      <th>0</th>\n",
       "      <td>1.0</td>\n",
       "      <td>34073</td>\n",
       "    </tr>\n",
       "    <tr>\n",
       "      <th>1</th>\n",
       "      <td>3.0</td>\n",
       "      <td>4010</td>\n",
       "    </tr>\n",
       "    <tr>\n",
       "      <th>2</th>\n",
       "      <td>2.0</td>\n",
       "      <td>3508</td>\n",
       "    </tr>\n",
       "    <tr>\n",
       "      <th>3</th>\n",
       "      <td>4.0</td>\n",
       "      <td>647</td>\n",
       "    </tr>\n",
       "  </tbody>\n",
       "</table>\n",
       "</div>"
      ],
      "text/plain": [
       "   index  LastWHO\n",
       "0    1.0    34073\n",
       "1    3.0     4010\n",
       "2    2.0     3508\n",
       "3    4.0      647"
      ]
     },
     "execution_count": 204,
     "metadata": {},
     "output_type": "execute_result"
    }
   ],
   "source": [
    "lastWHO=data['LastWHO'].value_counts().reset_index()\n",
    "lastWHO"
   ]
  },
  {
   "cell_type": "code",
   "execution_count": 210,
   "id": "7a1ef2d7",
   "metadata": {},
   "outputs": [
    {
     "data": {
      "image/png": "[encoded data removed]",
      "text/plain": [
       "<Figure size 936x576 with 1 Axes>"
      ]
     },
     "metadata": {},
     "output_type": "display_data"
    }
   ],
   "source": [
    "plt.figure(figsize=(13,8))\n",
    "sns.set_style('darkgrid')\n",
    "ax=sns.barplot(data=lastWHO, x='index', y='LastWHO')\n",
    "# Add labels to each bar\n",
    "for i in ax.containers:\n",
    "    ax.bar_label(i, label_type=\"edge\")\n",
    "plt.xlabel(\"LastWHO\", size=14)\n",
    "plt.ylabel(\"Number of patients\", size=14)\n",
    "plt.title(\"Last WHO status\", size=14)\n",
    "plt.savefig('who')\n",
    "plt.show()\n"
   ]
  },
  {
   "cell_type": "markdown",
   "id": "10ae5cbf",
   "metadata": {},
   "source": [
    "##### Gender distribution"
   ]
  },
  {
   "cell_type": "code",
   "execution_count": 189,
   "id": "e9993b25",
   "metadata": {},
   "outputs": [
    {
     "data": {
      "text/html": [
       "<div>\n",
       "<style scoped>\n",
       "    .dataframe tbody tr th:only-of-type {\n",
       "        vertical-align: middle;\n",
       "    }\n",
       "\n",
       "    .dataframe tbody tr th {\n",
       "        vertical-align: top;\n",
       "    }\n",
       "\n",
       "    .dataframe thead th {\n",
       "        text-align: right;\n",
       "    }\n",
       "</style>\n",
       "<table border=\"1\" class=\"dataframe\">\n",
       "  <thead>\n",
       "    <tr style=\"text-align: right;\">\n",
       "      <th></th>\n",
       "      <th>index</th>\n",
       "      <th>Gender</th>\n",
       "    </tr>\n",
       "  </thead>\n",
       "  <tbody>\n",
       "    <tr>\n",
       "      <th>0</th>\n",
       "      <td>Female</td>\n",
       "      <td>28555</td>\n",
       "    </tr>\n",
       "    <tr>\n",
       "      <th>1</th>\n",
       "      <td>Male</td>\n",
       "      <td>13762</td>\n",
       "    </tr>\n",
       "  </tbody>\n",
       "</table>\n",
       "</div>"
      ],
      "text/plain": [
       "    index  Gender\n",
       "0  Female   28555\n",
       "1    Male   13762"
      ]
     },
     "execution_count": 189,
     "metadata": {},
     "output_type": "execute_result"
    }
   ],
   "source": [
    "gender=data['Gender'].value_counts().reset_index()\n",
    "gender"
   ]
  },
  {
   "cell_type": "code",
   "execution_count": 190,
   "id": "f965762b",
   "metadata": {},
   "outputs": [
    {
     "data": {
      "image/png": "[encoded data removed]",
      "text/plain": [
       "<Figure size 432x288 with 1 Axes>"
      ]
     },
     "metadata": {},
     "output_type": "display_data"
    }
   ],
   "source": [
    "fig, ax = plt.subplots()\n",
    "gender.plot.pie(y='Gender', labels = gender['index'], wedgeprops= {'edgecolor': 'black'},startangle=90, \n",
    "                explode = (0.15,0), shadow= True, radius= 1.38, autopct='%1.1f%%',ax=ax)\n",
    "ax.legend(loc='lower center', bbox_to_anchor=(0.5, -0.2), ncol=2)\n",
    "plt.title('Programming Languages by Popularity', pad=20)\n",
    "plt.savefig('gender')\n",
    "plt.show()"
   ]
  },
  {
   "cell_type": "code",
   "execution_count": 191,
   "id": "e5a29aa6",
   "metadata": {},
   "outputs": [],
   "source": [
    "# from pygooglechart import PieChart3D\n",
    "# # Create the chart object\n",
    "# chart = PieChart3D(600, 400)\n",
    "# # Add the data\n",
    "# chart.add_data(gender['Gender'])\n",
    "# # Set the labels\n",
    "# chart.set_pie_labels(gender['index'])\n",
    "# # Set the title\n",
    "# chart.set_title('Gender Distribution')\n",
    "# # Download the chart as a PNG image file\n",
    "# chart.download('gender_distribution.png')"
   ]
  },
  {
   "cell_type": "markdown",
   "id": "b128036d",
   "metadata": {},
   "source": [
    "###### ART Status"
   ]
  },
  {
   "cell_type": "code",
   "execution_count": 192,
   "id": "0cb7ab19",
   "metadata": {
    "scrolled": true
   },
   "outputs": [
    {
     "data": {
      "text/html": [
       "<div>\n",
       "<style scoped>\n",
       "    .dataframe tbody tr th:only-of-type {\n",
       "        vertical-align: middle;\n",
       "    }\n",
       "\n",
       "    .dataframe tbody tr th {\n",
       "        vertical-align: top;\n",
       "    }\n",
       "\n",
       "    .dataframe thead th {\n",
       "        text-align: right;\n",
       "    }\n",
       "</style>\n",
       "<table border=\"1\" class=\"dataframe\">\n",
       "  <thead>\n",
       "    <tr style=\"text-align: right;\">\n",
       "      <th></th>\n",
       "      <th>index</th>\n",
       "      <th>ART Status</th>\n",
       "    </tr>\n",
       "  </thead>\n",
       "  <tbody>\n",
       "    <tr>\n",
       "      <th>0</th>\n",
       "      <td>ART</td>\n",
       "      <td>42117</td>\n",
       "    </tr>\n",
       "    <tr>\n",
       "      <th>1</th>\n",
       "      <td>Non-ART</td>\n",
       "      <td>200</td>\n",
       "    </tr>\n",
       "  </tbody>\n",
       "</table>\n",
       "</div>"
      ],
      "text/plain": [
       "     index  ART Status\n",
       "0      ART       42117\n",
       "1  Non-ART         200"
      ]
     },
     "execution_count": 192,
     "metadata": {},
     "output_type": "execute_result"
    }
   ],
   "source": [
    "ART_status=data['ART Status'].value_counts().reset_index()\n",
    "ART_status"
   ]
  },
  {
   "cell_type": "code",
   "execution_count": 196,
   "id": "c4ec1ae2",
   "metadata": {},
   "outputs": [
    {
     "data": {
      "image/png": "[encoded data removed]",
      "text/plain": [
       "<Figure size 432x288 with 1 Axes>"
      ]
     },
     "metadata": {},
     "output_type": "display_data"
    }
   ],
   "source": [
    "# Create a bar plot\n",
    "sns.set_style(\"whitegrid\")\n",
    "ax = sns.barplot(y=\"index\", x=\"ART Status\", data=ART_status)\n",
    "\n",
    "# Set the plot title and axis labels\n",
    "ax.set_title(\"ART Status\")\n",
    "ax.set_xlabel(\"Labels\")\n",
    "ax.set_ylabel(\"Counts\")\n",
    "\n",
    "# Add labels to each bar\n",
    "for i in ax.containers:\n",
    "    ax.bar_label(i, label_type=\"edge\")\n",
    "\n",
    "plt.savefig('ART')\n",
    "plt.show()"
   ]
  },
  {
   "cell_type": "markdown",
   "id": "a83721c5",
   "metadata": {},
   "source": [
    "### Most regimen per year\n",
    "- The most used regimen per year (you will need to determine the time range using the data provided)"
   ]
  },
  {
   "cell_type": "code",
   "execution_count": 24,
   "id": "e36c7024",
   "metadata": {
    "scrolled": true
   },
   "outputs": [
    {
     "data": {
      "text/html": [
       "<div>\n",
       "<style scoped>\n",
       "    .dataframe tbody tr th:only-of-type {\n",
       "        vertical-align: middle;\n",
       "    }\n",
       "\n",
       "    .dataframe tbody tr th {\n",
       "        vertical-align: top;\n",
       "    }\n",
       "\n",
       "    .dataframe thead th {\n",
       "        text-align: right;\n",
       "    }\n",
       "</style>\n",
       "<table border=\"1\" class=\"dataframe\">\n",
       "  <thead>\n",
       "    <tr style=\"text-align: right;\">\n",
       "      <th></th>\n",
       "      <th>index</th>\n",
       "      <th>LastRegimenLine</th>\n",
       "    </tr>\n",
       "  </thead>\n",
       "  <tbody>\n",
       "    <tr>\n",
       "      <th>0</th>\n",
       "      <td>First line</td>\n",
       "      <td>36724</td>\n",
       "    </tr>\n",
       "    <tr>\n",
       "      <th>1</th>\n",
       "      <td>Second line</td>\n",
       "      <td>3432</td>\n",
       "    </tr>\n",
       "    <tr>\n",
       "      <th>2</th>\n",
       "      <td>NaN</td>\n",
       "      <td>2119</td>\n",
       "    </tr>\n",
       "    <tr>\n",
       "      <th>3</th>\n",
       "      <td>PMTCT</td>\n",
       "      <td>36</td>\n",
       "    </tr>\n",
       "    <tr>\n",
       "      <th>4</th>\n",
       "      <td>First line substitute</td>\n",
       "      <td>5</td>\n",
       "    </tr>\n",
       "    <tr>\n",
       "      <th>5</th>\n",
       "      <td>PEP</td>\n",
       "      <td>1</td>\n",
       "    </tr>\n",
       "  </tbody>\n",
       "</table>\n",
       "</div>"
      ],
      "text/plain": [
       "                   index  LastRegimenLine\n",
       "0             First line            36724\n",
       "1            Second line             3432\n",
       "2                    NaN             2119\n",
       "3                  PMTCT               36\n",
       "4  First line substitute                5\n",
       "5                    PEP                1"
      ]
     },
     "execution_count": 24,
     "metadata": {},
     "output_type": "execute_result"
    }
   ],
   "source": [
    "last_regime_metrics=data['LastRegimenLine'].value_counts(dropna=False).reset_index()\n",
    "last_regime_metrics"
   ]
  },
  {
   "cell_type": "code",
   "execution_count": 251,
   "id": "30ddce3c",
   "metadata": {},
   "outputs": [
    {
     "data": {
      "image/png": "[encoded data removed]",
      "text/plain": [
       "<Figure size 936x576 with 1 Axes>"
      ]
     },
     "metadata": {},
     "output_type": "display_data"
    }
   ],
   "source": [
    "plt.figure(figsize=(13,8))\n",
    "sns.set_style('darkgrid')\n",
    "sns.lineplot(data=last_regime_metrics, y='LastRegimenLine', x='index', marker='o' ) # add marker style to line plot\n",
    "\n",
    "plt.xlabel(\"Last Regime line\", size=14)\n",
    "plt.ylabel(\"Number of patients\", size=14)\n",
    "plt.title(\"Last regime line administered\", size=14)\n",
    "\n",
    "plt.savefig('regime')\n",
    "plt.show()\n"
   ]
  },
  {
   "cell_type": "markdown",
   "id": "65708a6b",
   "metadata": {},
   "source": [
    "### Gender group registration per year"
   ]
  },
  {
   "cell_type": "code",
   "execution_count": 26,
   "id": "f8e6c2a8",
   "metadata": {},
   "outputs": [
    {
     "data": {
      "text/html": [
       "<div>\n",
       "<style scoped>\n",
       "    .dataframe tbody tr th:only-of-type {\n",
       "        vertical-align: middle;\n",
       "    }\n",
       "\n",
       "    .dataframe tbody tr th {\n",
       "        vertical-align: top;\n",
       "    }\n",
       "\n",
       "    .dataframe thead th {\n",
       "        text-align: right;\n",
       "    }\n",
       "</style>\n",
       "<table border=\"1\" class=\"dataframe\">\n",
       "  <thead>\n",
       "    <tr style=\"text-align: right;\">\n",
       "      <th>Gender</th>\n",
       "      <th>Female</th>\n",
       "      <th>Male</th>\n",
       "    </tr>\n",
       "    <tr>\n",
       "      <th>Registration Year</th>\n",
       "      <th></th>\n",
       "      <th></th>\n",
       "    </tr>\n",
       "  </thead>\n",
       "  <tbody>\n",
       "    <tr>\n",
       "      <th>1970</th>\n",
       "      <td>0</td>\n",
       "      <td>1</td>\n",
       "    </tr>\n",
       "    <tr>\n",
       "      <th>1973</th>\n",
       "      <td>1</td>\n",
       "      <td>0</td>\n",
       "    </tr>\n",
       "    <tr>\n",
       "      <th>2000</th>\n",
       "      <td>0</td>\n",
       "      <td>1</td>\n",
       "    </tr>\n",
       "    <tr>\n",
       "      <th>2001</th>\n",
       "      <td>1</td>\n",
       "      <td>0</td>\n",
       "    </tr>\n",
       "    <tr>\n",
       "      <th>2002</th>\n",
       "      <td>17</td>\n",
       "      <td>10</td>\n",
       "    </tr>\n",
       "    <tr>\n",
       "      <th>2003</th>\n",
       "      <td>36</td>\n",
       "      <td>25</td>\n",
       "    </tr>\n",
       "    <tr>\n",
       "      <th>2004</th>\n",
       "      <td>332</td>\n",
       "      <td>185</td>\n",
       "    </tr>\n",
       "    <tr>\n",
       "      <th>2005</th>\n",
       "      <td>1282</td>\n",
       "      <td>693</td>\n",
       "    </tr>\n",
       "    <tr>\n",
       "      <th>2006</th>\n",
       "      <td>2296</td>\n",
       "      <td>1006</td>\n",
       "    </tr>\n",
       "    <tr>\n",
       "      <th>2007</th>\n",
       "      <td>2392</td>\n",
       "      <td>1101</td>\n",
       "    </tr>\n",
       "    <tr>\n",
       "      <th>2008</th>\n",
       "      <td>3265</td>\n",
       "      <td>1501</td>\n",
       "    </tr>\n",
       "    <tr>\n",
       "      <th>2009</th>\n",
       "      <td>2740</td>\n",
       "      <td>1300</td>\n",
       "    </tr>\n",
       "    <tr>\n",
       "      <th>2010</th>\n",
       "      <td>2516</td>\n",
       "      <td>1230</td>\n",
       "    </tr>\n",
       "    <tr>\n",
       "      <th>2011</th>\n",
       "      <td>2104</td>\n",
       "      <td>999</td>\n",
       "    </tr>\n",
       "    <tr>\n",
       "      <th>2012</th>\n",
       "      <td>2051</td>\n",
       "      <td>945</td>\n",
       "    </tr>\n",
       "    <tr>\n",
       "      <th>2013</th>\n",
       "      <td>2185</td>\n",
       "      <td>1055</td>\n",
       "    </tr>\n",
       "    <tr>\n",
       "      <th>2014</th>\n",
       "      <td>2216</td>\n",
       "      <td>1045</td>\n",
       "    </tr>\n",
       "    <tr>\n",
       "      <th>2015</th>\n",
       "      <td>2091</td>\n",
       "      <td>1095</td>\n",
       "    </tr>\n",
       "    <tr>\n",
       "      <th>2016</th>\n",
       "      <td>2246</td>\n",
       "      <td>1175</td>\n",
       "    </tr>\n",
       "    <tr>\n",
       "      <th>2017</th>\n",
       "      <td>784</td>\n",
       "      <td>395</td>\n",
       "    </tr>\n",
       "  </tbody>\n",
       "</table>\n",
       "</div>"
      ],
      "text/plain": [
       "Gender             Female  Male\n",
       "Registration Year              \n",
       "1970                    0     1\n",
       "1973                    1     0\n",
       "2000                    0     1\n",
       "2001                    1     0\n",
       "2002                   17    10\n",
       "2003                   36    25\n",
       "2004                  332   185\n",
       "2005                 1282   693\n",
       "2006                 2296  1006\n",
       "2007                 2392  1101\n",
       "2008                 3265  1501\n",
       "2009                 2740  1300\n",
       "2010                 2516  1230\n",
       "2011                 2104   999\n",
       "2012                 2051   945\n",
       "2013                 2185  1055\n",
       "2014                 2216  1045\n",
       "2015                 2091  1095\n",
       "2016                 2246  1175\n",
       "2017                  784   395"
      ]
     },
     "execution_count": 26,
     "metadata": {},
     "output_type": "execute_result"
    }
   ],
   "source": [
    "#creating year of registration column\n",
    "data['Registration Date']=pd.to_datetime(data['Registration Date'])\n",
    "data['Registration Year']=pd.to_datetime(data['Registration Date']).dt.year\n",
    "\n",
    "#grouping according to year\n",
    "#yearly_registration=data.groupby(['Registration Year'])['Gender'].count().reset_index()\n",
    "yearly_registration = data.groupby(['Registration Year', 'Gender']).size().unstack(fill_value=0)\n",
    "\n",
    "yearly_registration"
   ]
  },
  {
   "cell_type": "code",
   "execution_count": 71,
   "id": "c0056963",
   "metadata": {},
   "outputs": [
    {
     "data": {
      "image/png": "[encoded data removed]",
      "text/plain": [
       "<Figure size 936x576 with 1 Axes>"
      ]
     },
     "metadata": {},
     "output_type": "display_data"
    }
   ],
   "source": [
    "plt.figure(figsize=(13,8))\n",
    "sns.countplot(data=data, x='Registration Year', hue='Gender')\n",
    "plt.xlabel(\"Year of registration\", size=14)\n",
    "plt.ylabel(\"Patients registered\", size=14)\n",
    "plt.title(\"Gender group registration per year\", size=14)\n",
    "\n",
    "plt.show()"
   ]
  },
  {
   "cell_type": "markdown",
   "id": "273de244",
   "metadata": {},
   "source": [
    "### Age-group profile based on regimen line per year"
   ]
  },
  {
   "cell_type": "code",
   "execution_count": 91,
   "id": "8ab6d663",
   "metadata": {
    "scrolled": true
   },
   "outputs": [
    {
     "data": {
      "text/html": [
       "<div>\n",
       "<style scoped>\n",
       "    .dataframe tbody tr th:only-of-type {\n",
       "        vertical-align: middle;\n",
       "    }\n",
       "\n",
       "    .dataframe tbody tr th {\n",
       "        vertical-align: top;\n",
       "    }\n",
       "\n",
       "    .dataframe thead th {\n",
       "        text-align: right;\n",
       "    }\n",
       "</style>\n",
       "<table border=\"1\" class=\"dataframe\">\n",
       "  <thead>\n",
       "    <tr style=\"text-align: right;\">\n",
       "      <th>AgeGroup</th>\n",
       "      <th>Adult</th>\n",
       "      <th>Paed</th>\n",
       "    </tr>\n",
       "    <tr>\n",
       "      <th>LastRegimenLine</th>\n",
       "      <th></th>\n",
       "      <th></th>\n",
       "    </tr>\n",
       "  </thead>\n",
       "  <tbody>\n",
       "    <tr>\n",
       "      <th>First line</th>\n",
       "      <td>34335</td>\n",
       "      <td>2389</td>\n",
       "    </tr>\n",
       "    <tr>\n",
       "      <th>First line substitute</th>\n",
       "      <td>5</td>\n",
       "      <td>0</td>\n",
       "    </tr>\n",
       "    <tr>\n",
       "      <th>PEP</th>\n",
       "      <td>0</td>\n",
       "      <td>1</td>\n",
       "    </tr>\n",
       "    <tr>\n",
       "      <th>PMTCT</th>\n",
       "      <td>35</td>\n",
       "      <td>1</td>\n",
       "    </tr>\n",
       "    <tr>\n",
       "      <th>Second line</th>\n",
       "      <td>3019</td>\n",
       "      <td>413</td>\n",
       "    </tr>\n",
       "  </tbody>\n",
       "</table>\n",
       "</div>"
      ],
      "text/plain": [
       "AgeGroup               Adult  Paed\n",
       "LastRegimenLine                   \n",
       "First line             34335  2389\n",
       "First line substitute      5     0\n",
       "PEP                        0     1\n",
       "PMTCT                     35     1\n",
       "Second line             3019   413"
      ]
     },
     "execution_count": 91,
     "metadata": {},
     "output_type": "execute_result"
    }
   ],
   "source": [
    "last_regime_metrics_yearly=data.groupby(['LastRegimenLine', 'AgeGroup']).size().unstack(fill_value=0)\n",
    "last_regime_metrics_yearly"
   ]
  }
 ],
 "metadata": {
  "kernelspec": {
   "display_name": "Python 3 (ipykernel)",
   "language": "python",
   "name": "python3"
  },
  "language_info": {
   "codemirror_mode": {
    "name": "ipython",
    "version": 3
   },
   "file_extension": ".py",
   "mimetype": "text/x-python",
   "name": "python",
   "nbconvert_exporter": "python",
   "pygments_lexer": "ipython3",
   "version": "3.9.12"
  }
 },
 "nbformat": 4,
 "nbformat_minor": 5
}
